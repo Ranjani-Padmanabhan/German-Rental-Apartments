{
 "cells": [
  {
   "cell_type": "markdown",
   "id": "a38324b0",
   "metadata": {},
   "source": [
    "# Importing Libraries "
   ]
  },
  {
   "cell_type": "code",
   "execution_count": 1,
   "id": "aaae4d25",
   "metadata": {},
   "outputs": [],
   "source": [
    "import pandas as pd\n",
    "import numpy as np\n",
    "import seaborn as sns\n",
    "import matplotlib\n",
    "import matplotlib.pyplot as plt\n",
    "import os\n",
    "import sklearn\n",
    "from sklearn.model_selection import train_test_split \n",
    "from sklearn.linear_model import LinearRegression\n",
    "from sklearn.metrics import mean_squared_error, r2_score"
   ]
  },
  {
   "cell_type": "code",
   "execution_count": 2,
   "id": "de912e43",
   "metadata": {},
   "outputs": [],
   "source": [
    "# This option ensures that the graphs you create are displayed within the notebook without the need to \"call\" them specifically.\n",
    "\n",
    "%matplotlib inline"
   ]
  },
  {
   "cell_type": "markdown",
   "id": "f7c15a07",
   "metadata": {},
   "source": [
    "# Importing Data"
   ]
  },
  {
   "cell_type": "code",
   "execution_count": 3,
   "id": "58b023ae",
   "metadata": {},
   "outputs": [],
   "source": [
    "# Assign the path variable \n",
    "\n",
    "path = r'C:\\Users\\guest23455\\Desktop\\CareerFoundry\\Data Immersion\\Achievement 6_Advanced Analytics and Dashboard Design\\06-2023 Apartment Rental in Germany Analysis'"
   ]
  },
  {
   "cell_type": "code",
   "execution_count": 4,
   "id": "6cd19bc1",
   "metadata": {},
   "outputs": [],
   "source": [
    "# Import the cleaned immo data\n",
    "\n",
    "df = pd.read_csv(os.path.join(path, 'Data', 'Prepared Data', 'cleaned2_immodata.csv'), index_col = False)"
   ]
  },
  {
   "cell_type": "code",
   "execution_count": 5,
   "id": "ee9b23ba",
   "metadata": {},
   "outputs": [
    {
     "data": {
      "text/plain": [
       "(7814, 25)"
      ]
     },
     "execution_count": 5,
     "metadata": {},
     "output_type": "execute_result"
    }
   ],
   "source": [
    "df.shape"
   ]
  },
  {
   "cell_type": "code",
   "execution_count": 6,
   "id": "43a05913",
   "metadata": {},
   "outputs": [
    {
     "data": {
      "text/html": [
       "<div>\n",
       "<style scoped>\n",
       "    .dataframe tbody tr th:only-of-type {\n",
       "        vertical-align: middle;\n",
       "    }\n",
       "\n",
       "    .dataframe tbody tr th {\n",
       "        vertical-align: top;\n",
       "    }\n",
       "\n",
       "    .dataframe thead th {\n",
       "        text-align: right;\n",
       "    }\n",
       "</style>\n",
       "<table border=\"1\" class=\"dataframe\">\n",
       "  <thead>\n",
       "    <tr style=\"text-align: right;\">\n",
       "      <th></th>\n",
       "      <th>Unnamed: 0</th>\n",
       "      <th>State</th>\n",
       "      <th>Service_Charge</th>\n",
       "      <th>Newly_Constructed</th>\n",
       "      <th>Balcony</th>\n",
       "      <th>Picture_Count</th>\n",
       "      <th>Price_Trend</th>\n",
       "      <th>Total_Rent</th>\n",
       "      <th>Year_Constructed</th>\n",
       "      <th>Number of Parking Spaces</th>\n",
       "      <th>...</th>\n",
       "      <th>Pets_Allowed</th>\n",
       "      <th>Lift</th>\n",
       "      <th>Zipcode</th>\n",
       "      <th>Number of Rooms</th>\n",
       "      <th>Floor</th>\n",
       "      <th>Number of Floors</th>\n",
       "      <th>Has_Garden</th>\n",
       "      <th>City</th>\n",
       "      <th>Districts</th>\n",
       "      <th>Heating_Costs</th>\n",
       "    </tr>\n",
       "  </thead>\n",
       "  <tbody>\n",
       "    <tr>\n",
       "      <th>0</th>\n",
       "      <td>0</td>\n",
       "      <td>Nordrhein-Westfalen</td>\n",
       "      <td>215.0</td>\n",
       "      <td>True</td>\n",
       "      <td>True</td>\n",
       "      <td>12</td>\n",
       "      <td>3.76</td>\n",
       "      <td>1320.65</td>\n",
       "      <td>2018</td>\n",
       "      <td>1.0</td>\n",
       "      <td>...</td>\n",
       "      <td>negotiable</td>\n",
       "      <td>True</td>\n",
       "      <td>44229</td>\n",
       "      <td>3.0</td>\n",
       "      <td>0.0</td>\n",
       "      <td>4.0</td>\n",
       "      <td>False</td>\n",
       "      <td>Dortmund</td>\n",
       "      <td>Kirchhörde</td>\n",
       "      <td>43.05</td>\n",
       "    </tr>\n",
       "    <tr>\n",
       "      <th>1</th>\n",
       "      <td>1</td>\n",
       "      <td>Niedersachsen</td>\n",
       "      <td>290.0</td>\n",
       "      <td>False</td>\n",
       "      <td>True</td>\n",
       "      <td>35</td>\n",
       "      <td>2.35</td>\n",
       "      <td>1878.48</td>\n",
       "      <td>2013</td>\n",
       "      <td>1.0</td>\n",
       "      <td>...</td>\n",
       "      <td>negotiable</td>\n",
       "      <td>True</td>\n",
       "      <td>37073</td>\n",
       "      <td>5.0</td>\n",
       "      <td>1.0</td>\n",
       "      <td>4.0</td>\n",
       "      <td>False</td>\n",
       "      <td>Göttingen_Kreis</td>\n",
       "      <td>Göttingen</td>\n",
       "      <td>160.00</td>\n",
       "    </tr>\n",
       "    <tr>\n",
       "      <th>2</th>\n",
       "      <td>2</td>\n",
       "      <td>Schleswig-Holstein</td>\n",
       "      <td>140.0</td>\n",
       "      <td>False</td>\n",
       "      <td>True</td>\n",
       "      <td>15</td>\n",
       "      <td>5.00</td>\n",
       "      <td>1450.00</td>\n",
       "      <td>1978</td>\n",
       "      <td>2.0</td>\n",
       "      <td>...</td>\n",
       "      <td>negotiable</td>\n",
       "      <td>False</td>\n",
       "      <td>24539</td>\n",
       "      <td>4.0</td>\n",
       "      <td>0.0</td>\n",
       "      <td>2.0</td>\n",
       "      <td>True</td>\n",
       "      <td>Neumünster</td>\n",
       "      <td>Wittorf</td>\n",
       "      <td>160.00</td>\n",
       "    </tr>\n",
       "    <tr>\n",
       "      <th>3</th>\n",
       "      <td>3</td>\n",
       "      <td>Hessen</td>\n",
       "      <td>155.0</td>\n",
       "      <td>False</td>\n",
       "      <td>True</td>\n",
       "      <td>16</td>\n",
       "      <td>3.46</td>\n",
       "      <td>635.00</td>\n",
       "      <td>1967</td>\n",
       "      <td>1.0</td>\n",
       "      <td>...</td>\n",
       "      <td>negotiable</td>\n",
       "      <td>True</td>\n",
       "      <td>34125</td>\n",
       "      <td>1.0</td>\n",
       "      <td>10.0</td>\n",
       "      <td>10.0</td>\n",
       "      <td>False</td>\n",
       "      <td>Kassel</td>\n",
       "      <td>Wesertor</td>\n",
       "      <td>72.00</td>\n",
       "    </tr>\n",
       "    <tr>\n",
       "      <th>4</th>\n",
       "      <td>4</td>\n",
       "      <td>Hessen</td>\n",
       "      <td>137.0</td>\n",
       "      <td>False</td>\n",
       "      <td>False</td>\n",
       "      <td>11</td>\n",
       "      <td>3.16</td>\n",
       "      <td>467.00</td>\n",
       "      <td>1967</td>\n",
       "      <td>1.0</td>\n",
       "      <td>...</td>\n",
       "      <td>negotiable</td>\n",
       "      <td>True</td>\n",
       "      <td>34117</td>\n",
       "      <td>1.0</td>\n",
       "      <td>1.0</td>\n",
       "      <td>10.0</td>\n",
       "      <td>False</td>\n",
       "      <td>Kassel</td>\n",
       "      <td>Wesertor</td>\n",
       "      <td>60.00</td>\n",
       "    </tr>\n",
       "  </tbody>\n",
       "</table>\n",
       "<p>5 rows × 25 columns</p>\n",
       "</div>"
      ],
      "text/plain": [
       "   Unnamed: 0                State  Service_Charge  Newly_Constructed  \\\n",
       "0           0  Nordrhein-Westfalen           215.0               True   \n",
       "1           1        Niedersachsen           290.0              False   \n",
       "2           2   Schleswig-Holstein           140.0              False   \n",
       "3           3               Hessen           155.0              False   \n",
       "4           4               Hessen           137.0              False   \n",
       "\n",
       "   Balcony  Picture_Count  Price_Trend  Total_Rent  Year_Constructed  \\\n",
       "0     True             12         3.76     1320.65              2018   \n",
       "1     True             35         2.35     1878.48              2013   \n",
       "2     True             15         5.00     1450.00              1978   \n",
       "3     True             16         3.46      635.00              1967   \n",
       "4    False             11         3.16      467.00              1967   \n",
       "\n",
       "   Number of Parking Spaces  ...  Pets_Allowed   Lift  Zipcode  \\\n",
       "0                       1.0  ...    negotiable   True    44229   \n",
       "1                       1.0  ...    negotiable   True    37073   \n",
       "2                       2.0  ...    negotiable  False    24539   \n",
       "3                       1.0  ...    negotiable   True    34125   \n",
       "4                       1.0  ...    negotiable   True    34117   \n",
       "\n",
       "   Number of Rooms  Floor Number of Floors  Has_Garden             City  \\\n",
       "0              3.0    0.0              4.0       False         Dortmund   \n",
       "1              5.0    1.0              4.0       False  Göttingen_Kreis   \n",
       "2              4.0    0.0              2.0        True       Neumünster   \n",
       "3              1.0   10.0             10.0       False           Kassel   \n",
       "4              1.0    1.0             10.0       False           Kassel   \n",
       "\n",
       "    Districts  Heating_Costs  \n",
       "0  Kirchhörde          43.05  \n",
       "1   Göttingen         160.00  \n",
       "2     Wittorf         160.00  \n",
       "3    Wesertor          72.00  \n",
       "4    Wesertor          60.00  \n",
       "\n",
       "[5 rows x 25 columns]"
      ]
     },
     "execution_count": 6,
     "metadata": {},
     "output_type": "execute_result"
    }
   ],
   "source": [
    "df.head()"
   ]
  },
  {
   "cell_type": "markdown",
   "id": "90c53691",
   "metadata": {},
   "source": [
    "# Data Cleaning"
   ]
  },
  {
   "cell_type": "markdown",
   "id": "bc41cae9",
   "metadata": {},
   "source": [
    "##### Dropping columns"
   ]
  },
  {
   "cell_type": "code",
   "execution_count": 7,
   "id": "815b0203",
   "metadata": {},
   "outputs": [],
   "source": [
    "del df['Unnamed: 0']"
   ]
  },
  {
   "cell_type": "code",
   "execution_count": 8,
   "id": "94999805",
   "metadata": {},
   "outputs": [
    {
     "data": {
      "text/html": [
       "<div>\n",
       "<style scoped>\n",
       "    .dataframe tbody tr th:only-of-type {\n",
       "        vertical-align: middle;\n",
       "    }\n",
       "\n",
       "    .dataframe tbody tr th {\n",
       "        vertical-align: top;\n",
       "    }\n",
       "\n",
       "    .dataframe thead th {\n",
       "        text-align: right;\n",
       "    }\n",
       "</style>\n",
       "<table border=\"1\" class=\"dataframe\">\n",
       "  <thead>\n",
       "    <tr style=\"text-align: right;\">\n",
       "      <th></th>\n",
       "      <th>State</th>\n",
       "      <th>Service_Charge</th>\n",
       "      <th>Newly_Constructed</th>\n",
       "      <th>Balcony</th>\n",
       "      <th>Picture_Count</th>\n",
       "      <th>Price_Trend</th>\n",
       "      <th>Total_Rent</th>\n",
       "      <th>Year_Constructed</th>\n",
       "      <th>Number of Parking Spaces</th>\n",
       "      <th>Has_Kitchen</th>\n",
       "      <th>...</th>\n",
       "      <th>Pets_Allowed</th>\n",
       "      <th>Lift</th>\n",
       "      <th>Zipcode</th>\n",
       "      <th>Number of Rooms</th>\n",
       "      <th>Floor</th>\n",
       "      <th>Number of Floors</th>\n",
       "      <th>Has_Garden</th>\n",
       "      <th>City</th>\n",
       "      <th>Districts</th>\n",
       "      <th>Heating_Costs</th>\n",
       "    </tr>\n",
       "  </thead>\n",
       "  <tbody>\n",
       "    <tr>\n",
       "      <th>0</th>\n",
       "      <td>Nordrhein-Westfalen</td>\n",
       "      <td>215.0</td>\n",
       "      <td>True</td>\n",
       "      <td>True</td>\n",
       "      <td>12</td>\n",
       "      <td>3.76</td>\n",
       "      <td>1320.65</td>\n",
       "      <td>2018</td>\n",
       "      <td>1.0</td>\n",
       "      <td>False</td>\n",
       "      <td>...</td>\n",
       "      <td>negotiable</td>\n",
       "      <td>True</td>\n",
       "      <td>44229</td>\n",
       "      <td>3.0</td>\n",
       "      <td>0.0</td>\n",
       "      <td>4.0</td>\n",
       "      <td>False</td>\n",
       "      <td>Dortmund</td>\n",
       "      <td>Kirchhörde</td>\n",
       "      <td>43.05</td>\n",
       "    </tr>\n",
       "    <tr>\n",
       "      <th>1</th>\n",
       "      <td>Niedersachsen</td>\n",
       "      <td>290.0</td>\n",
       "      <td>False</td>\n",
       "      <td>True</td>\n",
       "      <td>35</td>\n",
       "      <td>2.35</td>\n",
       "      <td>1878.48</td>\n",
       "      <td>2013</td>\n",
       "      <td>1.0</td>\n",
       "      <td>False</td>\n",
       "      <td>...</td>\n",
       "      <td>negotiable</td>\n",
       "      <td>True</td>\n",
       "      <td>37073</td>\n",
       "      <td>5.0</td>\n",
       "      <td>1.0</td>\n",
       "      <td>4.0</td>\n",
       "      <td>False</td>\n",
       "      <td>Göttingen_Kreis</td>\n",
       "      <td>Göttingen</td>\n",
       "      <td>160.00</td>\n",
       "    </tr>\n",
       "    <tr>\n",
       "      <th>2</th>\n",
       "      <td>Schleswig-Holstein</td>\n",
       "      <td>140.0</td>\n",
       "      <td>False</td>\n",
       "      <td>True</td>\n",
       "      <td>15</td>\n",
       "      <td>5.00</td>\n",
       "      <td>1450.00</td>\n",
       "      <td>1978</td>\n",
       "      <td>2.0</td>\n",
       "      <td>False</td>\n",
       "      <td>...</td>\n",
       "      <td>negotiable</td>\n",
       "      <td>False</td>\n",
       "      <td>24539</td>\n",
       "      <td>4.0</td>\n",
       "      <td>0.0</td>\n",
       "      <td>2.0</td>\n",
       "      <td>True</td>\n",
       "      <td>Neumünster</td>\n",
       "      <td>Wittorf</td>\n",
       "      <td>160.00</td>\n",
       "    </tr>\n",
       "    <tr>\n",
       "      <th>3</th>\n",
       "      <td>Hessen</td>\n",
       "      <td>155.0</td>\n",
       "      <td>False</td>\n",
       "      <td>True</td>\n",
       "      <td>16</td>\n",
       "      <td>3.46</td>\n",
       "      <td>635.00</td>\n",
       "      <td>1967</td>\n",
       "      <td>1.0</td>\n",
       "      <td>False</td>\n",
       "      <td>...</td>\n",
       "      <td>negotiable</td>\n",
       "      <td>True</td>\n",
       "      <td>34125</td>\n",
       "      <td>1.0</td>\n",
       "      <td>10.0</td>\n",
       "      <td>10.0</td>\n",
       "      <td>False</td>\n",
       "      <td>Kassel</td>\n",
       "      <td>Wesertor</td>\n",
       "      <td>72.00</td>\n",
       "    </tr>\n",
       "    <tr>\n",
       "      <th>4</th>\n",
       "      <td>Hessen</td>\n",
       "      <td>137.0</td>\n",
       "      <td>False</td>\n",
       "      <td>False</td>\n",
       "      <td>11</td>\n",
       "      <td>3.16</td>\n",
       "      <td>467.00</td>\n",
       "      <td>1967</td>\n",
       "      <td>1.0</td>\n",
       "      <td>False</td>\n",
       "      <td>...</td>\n",
       "      <td>negotiable</td>\n",
       "      <td>True</td>\n",
       "      <td>34117</td>\n",
       "      <td>1.0</td>\n",
       "      <td>1.0</td>\n",
       "      <td>10.0</td>\n",
       "      <td>False</td>\n",
       "      <td>Kassel</td>\n",
       "      <td>Wesertor</td>\n",
       "      <td>60.00</td>\n",
       "    </tr>\n",
       "  </tbody>\n",
       "</table>\n",
       "<p>5 rows × 24 columns</p>\n",
       "</div>"
      ],
      "text/plain": [
       "                 State  Service_Charge  Newly_Constructed  Balcony  \\\n",
       "0  Nordrhein-Westfalen           215.0               True     True   \n",
       "1        Niedersachsen           290.0              False     True   \n",
       "2   Schleswig-Holstein           140.0              False     True   \n",
       "3               Hessen           155.0              False     True   \n",
       "4               Hessen           137.0              False    False   \n",
       "\n",
       "   Picture_Count  Price_Trend  Total_Rent  Year_Constructed  \\\n",
       "0             12         3.76     1320.65              2018   \n",
       "1             35         2.35     1878.48              2013   \n",
       "2             15         5.00     1450.00              1978   \n",
       "3             16         3.46      635.00              1967   \n",
       "4             11         3.16      467.00              1967   \n",
       "\n",
       "   Number of Parking Spaces  Has_Kitchen  ... Pets_Allowed   Lift  Zipcode  \\\n",
       "0                       1.0        False  ...   negotiable   True    44229   \n",
       "1                       1.0        False  ...   negotiable   True    37073   \n",
       "2                       2.0        False  ...   negotiable  False    24539   \n",
       "3                       1.0        False  ...   negotiable   True    34125   \n",
       "4                       1.0        False  ...   negotiable   True    34117   \n",
       "\n",
       "   Number of Rooms Floor  Number of Floors  Has_Garden             City  \\\n",
       "0              3.0   0.0               4.0       False         Dortmund   \n",
       "1              5.0   1.0               4.0       False  Göttingen_Kreis   \n",
       "2              4.0   0.0               2.0        True       Neumünster   \n",
       "3              1.0  10.0              10.0       False           Kassel   \n",
       "4              1.0   1.0              10.0       False           Kassel   \n",
       "\n",
       "    Districts  Heating_Costs  \n",
       "0  Kirchhörde          43.05  \n",
       "1   Göttingen         160.00  \n",
       "2     Wittorf         160.00  \n",
       "3    Wesertor          72.00  \n",
       "4    Wesertor          60.00  \n",
       "\n",
       "[5 rows x 24 columns]"
      ]
     },
     "execution_count": 8,
     "metadata": {},
     "output_type": "execute_result"
    }
   ],
   "source": [
    "df.head()"
   ]
  },
  {
   "cell_type": "markdown",
   "id": "cb9ddd35",
   "metadata": {},
   "source": [
    "##### Missing values"
   ]
  },
  {
   "cell_type": "code",
   "execution_count": 9,
   "id": "2e18c8c2",
   "metadata": {},
   "outputs": [
    {
     "data": {
      "text/plain": [
       "State                       0\n",
       "Service_Charge              0\n",
       "Newly_Constructed           0\n",
       "Balcony                     0\n",
       "Picture_Count               0\n",
       "Price_Trend                 0\n",
       "Total_Rent                  0\n",
       "Year_Constructed            0\n",
       "Number of Parking Spaces    0\n",
       "Has_Kitchen                 0\n",
       "geo_bln                     0\n",
       "Cellar                      0\n",
       "Base_Rent                   0\n",
       "Area (m2)                   0\n",
       "Pets_Allowed                0\n",
       "Lift                        0\n",
       "Zipcode                     0\n",
       "Number of Rooms             0\n",
       "Floor                       0\n",
       "Number of Floors            0\n",
       "Has_Garden                  0\n",
       "City                        0\n",
       "Districts                   0\n",
       "Heating_Costs               0\n",
       "dtype: int64"
      ]
     },
     "execution_count": 9,
     "metadata": {},
     "output_type": "execute_result"
    }
   ],
   "source": [
    "# Check for missing values\n",
    "\n",
    "df.isnull().sum()\n",
    "\n",
    "# No missing values to handle"
   ]
  },
  {
   "cell_type": "markdown",
   "id": "2cf2db9c",
   "metadata": {},
   "source": [
    "##### Duplicates check"
   ]
  },
  {
   "cell_type": "code",
   "execution_count": 10,
   "id": "62873ce5",
   "metadata": {},
   "outputs": [],
   "source": [
    "dups = df.duplicated()"
   ]
  },
  {
   "cell_type": "code",
   "execution_count": 11,
   "id": "ccaf4f22",
   "metadata": {},
   "outputs": [
    {
     "data": {
      "text/plain": [
       "(7814,)"
      ]
     },
     "execution_count": 11,
     "metadata": {},
     "output_type": "execute_result"
    }
   ],
   "source": [
    "dups.shape # No dups"
   ]
  },
  {
   "cell_type": "markdown",
   "id": "e844790f",
   "metadata": {},
   "source": [
    "##### Extreme values check"
   ]
  },
  {
   "cell_type": "code",
   "execution_count": 12,
   "id": "38a9daeb",
   "metadata": {},
   "outputs": [
    {
     "name": "stderr",
     "output_type": "stream",
     "text": [
      "C:\\Users\\guest23455\\AppData\\Local\\Temp\\ipykernel_15468\\3059112943.py:1: UserWarning: \n",
      "\n",
      "`distplot` is a deprecated function and will be removed in seaborn v0.14.0.\n",
      "\n",
      "Please adapt your code to use either `displot` (a figure-level function with\n",
      "similar flexibility) or `histplot` (an axes-level function for histograms).\n",
      "\n",
      "For a guide to updating your code to use the new functions, please see\n",
      "https://gist.github.com/mwaskom/de44147ed2974457ad6372750bbe5751\n",
      "\n",
      "  sns.distplot(df['Total_Rent'], bins=25) # Shows no extreme values\n"
     ]
    },
    {
     "data": {
      "text/plain": [
       "<Axes: xlabel='Total_Rent', ylabel='Density'>"
      ]
     },
     "execution_count": 12,
     "metadata": {},
     "output_type": "execute_result"
    },
    {
     "data": {
      "image/png": "[encoded data removed]",
      "text/plain": [
       "<Figure size 640x480 with 1 Axes>"
      ]
     },
     "metadata": {},
     "output_type": "display_data"
    }
   ],
   "source": [
    "sns.distplot(df['Total_Rent'], bins=25) # Shows no extreme values"
   ]
  },
  {
   "cell_type": "code",
   "execution_count": 13,
   "id": "22e8c66a",
   "metadata": {},
   "outputs": [
    {
     "data": {
      "text/plain": [
       "905.6644765804966"
      ]
     },
     "execution_count": 13,
     "metadata": {},
     "output_type": "execute_result"
    }
   ],
   "source": [
    "df['Total_Rent'].mean() # Check the mean"
   ]
  },
  {
   "cell_type": "code",
   "execution_count": 14,
   "id": "ffdf1449",
   "metadata": {},
   "outputs": [
    {
     "data": {
      "text/plain": [
       "770.0"
      ]
     },
     "execution_count": 14,
     "metadata": {},
     "output_type": "execute_result"
    }
   ],
   "source": [
    "df['Total_Rent'].median() # Check the median"
   ]
  },
  {
   "cell_type": "code",
   "execution_count": 15,
   "id": "4e44298f",
   "metadata": {},
   "outputs": [
    {
     "data": {
      "text/plain": [
       "8550.0"
      ]
     },
     "execution_count": 15,
     "metadata": {},
     "output_type": "execute_result"
    }
   ],
   "source": [
    "df['Total_Rent'].max() # Check the max"
   ]
  },
  {
   "cell_type": "markdown",
   "id": "24fc6a8d",
   "metadata": {},
   "source": [
    "# Data prep for Regression Analysis"
   ]
  },
  {
   "cell_type": "code",
   "execution_count": 16,
   "id": "a28a72cb",
   "metadata": {},
   "outputs": [
    {
     "data": {
      "image/png": "[encoded data removed]",
      "text/plain": [
       "<Figure size 640x480 with 1 Axes>"
      ]
     },
     "metadata": {},
     "output_type": "display_data"
    }
   ],
   "source": [
    "# Create a scatterplot \n",
    "\n",
    "df.plot(x = 'Year_Constructed', y='Total_Rent',style='o') \n",
    "plt.title('Year Constructed vs. Rent')  \n",
    "plt.xlabel('Year Constructed')  \n",
    "plt.ylabel('Rent (in Euros)')  \n",
    "plt.show()"
   ]
  },
  {
   "cell_type": "markdown",
   "id": "7d3aa606",
   "metadata": {},
   "source": [
    "**Hypothesis : If the apartment is newly constructed then the rent is high.** "
   ]
  },
  {
   "cell_type": "code",
   "execution_count": 17,
   "id": "d1051517",
   "metadata": {},
   "outputs": [],
   "source": [
    "# Reshape the variables into NumPy arrays and put them into separate objects.\n",
    "\n",
    "X = df['Year_Constructed'].values.reshape(-1,1)\n",
    "y = df['Total_Rent'].values.reshape(-1,1)"
   ]
  },
  {
   "cell_type": "code",
   "execution_count": 18,
   "id": "b4330e49",
   "metadata": {},
   "outputs": [
    {
     "data": {
      "text/plain": [
       "array([[2018],\n",
       "       [2013],\n",
       "       [1978],\n",
       "       ...,\n",
       "       [2019],\n",
       "       [1964],\n",
       "       [2016]], dtype=int64)"
      ]
     },
     "execution_count": 18,
     "metadata": {},
     "output_type": "execute_result"
    }
   ],
   "source": [
    "X"
   ]
  },
  {
   "cell_type": "code",
   "execution_count": 19,
   "id": "7f8d758e",
   "metadata": {},
   "outputs": [
    {
     "data": {
      "text/plain": [
       "array([[1320.65],\n",
       "       [1878.48],\n",
       "       [1450.  ],\n",
       "       ...,\n",
       "       [ 830.  ],\n",
       "       [ 805.  ],\n",
       "       [1479.64]])"
      ]
     },
     "execution_count": 19,
     "metadata": {},
     "output_type": "execute_result"
    }
   ],
   "source": [
    "y"
   ]
  },
  {
   "cell_type": "code",
   "execution_count": 20,
   "id": "ec84b199",
   "metadata": {},
   "outputs": [],
   "source": [
    "# Split data into a training set and a test set.\n",
    "\n",
    "X_train, X_test, y_train, y_test = train_test_split(X, y, test_size=0.3, random_state=0)"
   ]
  },
  {
   "cell_type": "markdown",
   "id": "b95563a6",
   "metadata": {},
   "source": [
    "# Regression Analysis"
   ]
  },
  {
   "cell_type": "code",
   "execution_count": 21,
   "id": "92518e5e",
   "metadata": {},
   "outputs": [],
   "source": [
    "# Create a regression object.\n",
    "\n",
    "regression = LinearRegression()  # This is the regression object, which will be fit onto the training set."
   ]
  },
  {
   "cell_type": "code",
   "execution_count": 22,
   "id": "14621713",
   "metadata": {},
   "outputs": [
    {
     "data": {
      "text/html": [
       "<style>#sk-container-id-1 {color: black;background-color: white;}#sk-container-id-1 pre{padding: 0;}#sk-container-id-1 div.sk-toggleable {background-color: white;}#sk-container-id-1 label.sk-toggleable__label {cursor: pointer;display: block;width: 100%;margin-bottom: 0;padding: 0.3em;box-sizing: border-box;text-align: center;}#sk-container-id-1 label.sk-toggleable__label-arrow:before {content: \"▸\";float: left;margin-right: 0.25em;color: #696969;}#sk-container-id-1 label.sk-toggleable__label-arrow:hover:before {color: black;}#sk-container-id-1 div.sk-estimator:hover label.sk-toggleable__label-arrow:before {color: black;}#sk-container-id-1 div.sk-toggleable__content {max-height: 0;max-width: 0;overflow: hidden;text-align: left;background-color: #f0f8ff;}#sk-container-id-1 div.sk-toggleable__content pre {margin: 0.2em;color: black;border-radius: 0.25em;background-color: #f0f8ff;}#sk-container-id-1 input.sk-toggleable__control:checked~div.sk-toggleable__content {max-height: 200px;max-width: 100%;overflow: auto;}#sk-container-id-1 input.sk-toggleable__control:checked~label.sk-toggleable__label-arrow:before {content: \"▾\";}#sk-container-id-1 div.sk-estimator input.sk-toggleable__control:checked~label.sk-toggleable__label {background-color: #d4ebff;}#sk-container-id-1 div.sk-label input.sk-toggleable__control:checked~label.sk-toggleable__label {background-color: #d4ebff;}#sk-container-id-1 input.sk-hidden--visually {border: 0;clip: rect(1px 1px 1px 1px);clip: rect(1px, 1px, 1px, 1px);height: 1px;margin: -1px;overflow: hidden;padding: 0;position: absolute;width: 1px;}#sk-container-id-1 div.sk-estimator {font-family: monospace;background-color: #f0f8ff;border: 1px dotted black;border-radius: 0.25em;box-sizing: border-box;margin-bottom: 0.5em;}#sk-container-id-1 div.sk-estimator:hover {background-color: #d4ebff;}#sk-container-id-1 div.sk-parallel-item::after {content: \"\";width: 100%;border-bottom: 1px solid gray;flex-grow: 1;}#sk-container-id-1 div.sk-label:hover label.sk-toggleable__label {background-color: #d4ebff;}#sk-container-id-1 div.sk-serial::before {content: \"\";position: absolute;border-left: 1px solid gray;box-sizing: border-box;top: 0;bottom: 0;left: 50%;z-index: 0;}#sk-container-id-1 div.sk-serial {display: flex;flex-direction: column;align-items: center;background-color: white;padding-right: 0.2em;padding-left: 0.2em;position: relative;}#sk-container-id-1 div.sk-item {position: relative;z-index: 1;}#sk-container-id-1 div.sk-parallel {display: flex;align-items: stretch;justify-content: center;background-color: white;position: relative;}#sk-container-id-1 div.sk-item::before, #sk-container-id-1 div.sk-parallel-item::before {content: \"\";position: absolute;border-left: 1px solid gray;box-sizing: border-box;top: 0;bottom: 0;left: 50%;z-index: -1;}#sk-container-id-1 div.sk-parallel-item {display: flex;flex-direction: column;z-index: 1;position: relative;background-color: white;}#sk-container-id-1 div.sk-parallel-item:first-child::after {align-self: flex-end;width: 50%;}#sk-container-id-1 div.sk-parallel-item:last-child::after {align-self: flex-start;width: 50%;}#sk-container-id-1 div.sk-parallel-item:only-child::after {width: 0;}#sk-container-id-1 div.sk-dashed-wrapped {border: 1px dashed gray;margin: 0 0.4em 0.5em 0.4em;box-sizing: border-box;padding-bottom: 0.4em;background-color: white;}#sk-container-id-1 div.sk-label label {font-family: monospace;font-weight: bold;display: inline-block;line-height: 1.2em;}#sk-container-id-1 div.sk-label-container {text-align: center;}#sk-container-id-1 div.sk-container {/* jupyter's `normalize.less` sets `[hidden] { display: none; }` but bootstrap.min.css set `[hidden] { display: none !important; }` so we also need the `!important` here to be able to override the default hidden behavior on the sphinx rendered scikit-learn.org. See: https://github.com/scikit-learn/scikit-learn/issues/21755 */display: inline-block !important;position: relative;}#sk-container-id-1 div.sk-text-repr-fallback {display: none;}</style><div id=\"sk-container-id-1\" class=\"sk-top-container\"><div class=\"sk-text-repr-fallback\"><pre>LinearRegression()</pre><b>In a Jupyter environment, please rerun this cell to show the HTML representation or trust the notebook. <br />On GitHub, the HTML representation is unable to render, please try loading this page with nbviewer.org.</b></div><div class=\"sk-container\" hidden><div class=\"sk-item\"><div class=\"sk-estimator sk-toggleable\"><input class=\"sk-toggleable__control sk-hidden--visually\" id=\"sk-estimator-id-1\" type=\"checkbox\" checked><label for=\"sk-estimator-id-1\" class=\"sk-toggleable__label sk-toggleable__label-arrow\">LinearRegression</label><div class=\"sk-toggleable__content\"><pre>LinearRegression()</pre></div></div></div></div></div>"
      ],
      "text/plain": [
       "LinearRegression()"
      ]
     },
     "execution_count": 22,
     "metadata": {},
     "output_type": "execute_result"
    }
   ],
   "source": [
    "# Fit the regression object onto the training set.\n",
    "\n",
    "regression.fit(X_train, y_train)"
   ]
  },
  {
   "cell_type": "code",
   "execution_count": 23,
   "id": "aa3b23b3",
   "metadata": {},
   "outputs": [],
   "source": [
    "# Predict the values of y using X.\n",
    "\n",
    "y_predicted = regression.predict(X_test)"
   ]
  },
  {
   "cell_type": "code",
   "execution_count": 24,
   "id": "f904650f",
   "metadata": {},
   "outputs": [
    {
     "data": {
      "image/png": "[encoded data removed]",
      "text/plain": [
       "<Figure size 640x480 with 1 Axes>"
      ]
     },
     "metadata": {},
     "output_type": "display_data"
    }
   ],
   "source": [
    "# Create a plot that shows the regression line from the model on the test set.\n",
    "\n",
    "plot_test = plt\n",
    "plot_test.scatter(X_test, y_test, color='gray', s = 15)\n",
    "plot_test.plot(X_test, y_predicted, color='red', linewidth =3)\n",
    "plot_test.title('Construction Year vs Rent (in Euros) (Test set)')\n",
    "plot_test.xlabel('Construction Year')\n",
    "plot_test.ylabel('Rent (in Euros)')\n",
    "plot_test.show()"
   ]
  },
  {
   "cell_type": "markdown",
   "id": "88e64eca",
   "metadata": {},
   "source": [
    "The trend does not not fit all the data points well, espcially when the rents are high. "
   ]
  },
  {
   "cell_type": "code",
   "execution_count": 25,
   "id": "09117ceb",
   "metadata": {},
   "outputs": [],
   "source": [
    "# Create objects that contain the model summary statistics.\n",
    "\n",
    "rmse = mean_squared_error(y_test, y_predicted) # This is the mean squared error\n",
    "r2 = r2_score(y_test, y_predicted) # This is the R2 score. "
   ]
  },
  {
   "cell_type": "code",
   "execution_count": 26,
   "id": "2e08c4f2",
   "metadata": {},
   "outputs": [
    {
     "name": "stdout",
     "output_type": "stream",
     "text": [
      "Slope: [[3.51486578]]\n",
      "Mean squared error:  266936.7453116788\n",
      "R2 score:  0.07112430148389304\n"
     ]
    }
   ],
   "source": [
    "# Print the model summary statistics. This is where you evaluate the performance of the model.\n",
    "\n",
    "print('Slope:' ,regression.coef_)\n",
    "print('Mean squared error: ', rmse)\n",
    "print('R2 score: ', r2)"
   ]
  },
  {
   "cell_type": "code",
   "execution_count": 27,
   "id": "d512dd11",
   "metadata": {},
   "outputs": [
    {
     "data": {
      "text/plain": [
       "array([[ 905.8264209 ],\n",
       "       [ 888.25209201],\n",
       "       [ 881.22236045],\n",
       "       ...,\n",
       "       [ 965.57913915],\n",
       "       [1042.90618629],\n",
       "       [ 744.14259507]])"
      ]
     },
     "execution_count": 27,
     "metadata": {},
     "output_type": "execute_result"
    }
   ],
   "source": [
    "y_predicted"
   ]
  },
  {
   "cell_type": "code",
   "execution_count": 28,
   "id": "70f42deb",
   "metadata": {},
   "outputs": [
    {
     "data": {
      "text/html": [
       "<div>\n",
       "<style scoped>\n",
       "    .dataframe tbody tr th:only-of-type {\n",
       "        vertical-align: middle;\n",
       "    }\n",
       "\n",
       "    .dataframe tbody tr th {\n",
       "        vertical-align: top;\n",
       "    }\n",
       "\n",
       "    .dataframe thead th {\n",
       "        text-align: right;\n",
       "    }\n",
       "</style>\n",
       "<table border=\"1\" class=\"dataframe\">\n",
       "  <thead>\n",
       "    <tr style=\"text-align: right;\">\n",
       "      <th></th>\n",
       "      <th>Actual</th>\n",
       "      <th>Predicted</th>\n",
       "    </tr>\n",
       "  </thead>\n",
       "  <tbody>\n",
       "    <tr>\n",
       "      <th>0</th>\n",
       "      <td>1345.00</td>\n",
       "      <td>905.826421</td>\n",
       "    </tr>\n",
       "    <tr>\n",
       "      <th>1</th>\n",
       "      <td>680.00</td>\n",
       "      <td>888.252092</td>\n",
       "    </tr>\n",
       "    <tr>\n",
       "      <th>2</th>\n",
       "      <td>1700.00</td>\n",
       "      <td>881.222360</td>\n",
       "    </tr>\n",
       "    <tr>\n",
       "      <th>3</th>\n",
       "      <td>914.00</td>\n",
       "      <td>1032.361589</td>\n",
       "    </tr>\n",
       "    <tr>\n",
       "      <th>4</th>\n",
       "      <td>970.00</td>\n",
       "      <td>828.499374</td>\n",
       "    </tr>\n",
       "    <tr>\n",
       "      <th>5</th>\n",
       "      <td>1198.79</td>\n",
       "      <td>937.460213</td>\n",
       "    </tr>\n",
       "    <tr>\n",
       "      <th>6</th>\n",
       "      <td>658.76</td>\n",
       "      <td>955.034542</td>\n",
       "    </tr>\n",
       "    <tr>\n",
       "      <th>7</th>\n",
       "      <td>800.00</td>\n",
       "      <td>867.162897</td>\n",
       "    </tr>\n",
       "    <tr>\n",
       "      <th>8</th>\n",
       "      <td>711.00</td>\n",
       "      <td>663.300682</td>\n",
       "    </tr>\n",
       "    <tr>\n",
       "      <th>9</th>\n",
       "      <td>730.00</td>\n",
       "      <td>955.034542</td>\n",
       "    </tr>\n",
       "    <tr>\n",
       "      <th>10</th>\n",
       "      <td>760.72</td>\n",
       "      <td>726.568266</td>\n",
       "    </tr>\n",
       "    <tr>\n",
       "      <th>11</th>\n",
       "      <td>685.00</td>\n",
       "      <td>881.222360</td>\n",
       "    </tr>\n",
       "    <tr>\n",
       "      <th>12</th>\n",
       "      <td>610.00</td>\n",
       "      <td>912.856152</td>\n",
       "    </tr>\n",
       "    <tr>\n",
       "      <th>13</th>\n",
       "      <td>560.00</td>\n",
       "      <td>832.014240</td>\n",
       "    </tr>\n",
       "    <tr>\n",
       "      <th>14</th>\n",
       "      <td>1585.08</td>\n",
       "      <td>1014.787260</td>\n",
       "    </tr>\n",
       "    <tr>\n",
       "      <th>15</th>\n",
       "      <td>990.00</td>\n",
       "      <td>1014.787260</td>\n",
       "    </tr>\n",
       "    <tr>\n",
       "      <th>16</th>\n",
       "      <td>829.00</td>\n",
       "      <td>923.400750</td>\n",
       "    </tr>\n",
       "    <tr>\n",
       "      <th>17</th>\n",
       "      <td>989.00</td>\n",
       "      <td>814.439911</td>\n",
       "    </tr>\n",
       "    <tr>\n",
       "      <th>18</th>\n",
       "      <td>271.00</td>\n",
       "      <td>628.152024</td>\n",
       "    </tr>\n",
       "    <tr>\n",
       "      <th>19</th>\n",
       "      <td>802.23</td>\n",
       "      <td>540.280380</td>\n",
       "    </tr>\n",
       "    <tr>\n",
       "      <th>20</th>\n",
       "      <td>775.00</td>\n",
       "      <td>962.064273</td>\n",
       "    </tr>\n",
       "    <tr>\n",
       "      <th>21</th>\n",
       "      <td>1180.00</td>\n",
       "      <td>1049.935918</td>\n",
       "    </tr>\n",
       "    <tr>\n",
       "      <th>22</th>\n",
       "      <td>410.00</td>\n",
       "      <td>824.984508</td>\n",
       "    </tr>\n",
       "    <tr>\n",
       "      <th>23</th>\n",
       "      <td>1165.00</td>\n",
       "      <td>1046.421052</td>\n",
       "    </tr>\n",
       "    <tr>\n",
       "      <th>24</th>\n",
       "      <td>525.00</td>\n",
       "      <td>744.142595</td>\n",
       "    </tr>\n",
       "    <tr>\n",
       "      <th>25</th>\n",
       "      <td>914.04</td>\n",
       "      <td>965.579139</td>\n",
       "    </tr>\n",
       "    <tr>\n",
       "      <th>26</th>\n",
       "      <td>1129.15</td>\n",
       "      <td>898.796689</td>\n",
       "    </tr>\n",
       "    <tr>\n",
       "      <th>27</th>\n",
       "      <td>805.00</td>\n",
       "      <td>628.152024</td>\n",
       "    </tr>\n",
       "    <tr>\n",
       "      <th>28</th>\n",
       "      <td>529.00</td>\n",
       "      <td>666.815548</td>\n",
       "    </tr>\n",
       "    <tr>\n",
       "      <th>29</th>\n",
       "      <td>1100.00</td>\n",
       "      <td>1042.906186</td>\n",
       "    </tr>\n",
       "  </tbody>\n",
       "</table>\n",
       "</div>"
      ],
      "text/plain": [
       "     Actual    Predicted\n",
       "0   1345.00   905.826421\n",
       "1    680.00   888.252092\n",
       "2   1700.00   881.222360\n",
       "3    914.00  1032.361589\n",
       "4    970.00   828.499374\n",
       "5   1198.79   937.460213\n",
       "6    658.76   955.034542\n",
       "7    800.00   867.162897\n",
       "8    711.00   663.300682\n",
       "9    730.00   955.034542\n",
       "10   760.72   726.568266\n",
       "11   685.00   881.222360\n",
       "12   610.00   912.856152\n",
       "13   560.00   832.014240\n",
       "14  1585.08  1014.787260\n",
       "15   990.00  1014.787260\n",
       "16   829.00   923.400750\n",
       "17   989.00   814.439911\n",
       "18   271.00   628.152024\n",
       "19   802.23   540.280380\n",
       "20   775.00   962.064273\n",
       "21  1180.00  1049.935918\n",
       "22   410.00   824.984508\n",
       "23  1165.00  1046.421052\n",
       "24   525.00   744.142595\n",
       "25   914.04   965.579139\n",
       "26  1129.15   898.796689\n",
       "27   805.00   628.152024\n",
       "28   529.00   666.815548\n",
       "29  1100.00  1042.906186"
      ]
     },
     "execution_count": 28,
     "metadata": {},
     "output_type": "execute_result"
    }
   ],
   "source": [
    "# Create a dataframe comparing the actual and predicted values of y.\n",
    "\n",
    "data = pd.DataFrame({'Actual': y_test.flatten(), 'Predicted': y_predicted.flatten()})\n",
    "data.head(30)"
   ]
  },
  {
   "cell_type": "markdown",
   "id": "b3531a57",
   "metadata": {},
   "source": [
    "## Compare how the regression fits the trainning set"
   ]
  },
  {
   "cell_type": "code",
   "execution_count": 29,
   "id": "c2772f64",
   "metadata": {},
   "outputs": [],
   "source": [
    "# Predict\n",
    "\n",
    "y_predicted_train = regression.predict(X_train) # This is predicting X_train"
   ]
  },
  {
   "cell_type": "code",
   "execution_count": 30,
   "id": "77eb62ff",
   "metadata": {},
   "outputs": [],
   "source": [
    "rmse = mean_squared_error(y_train, y_predicted_train)\n",
    "r2 = r2_score(y_train, y_predicted_train)"
   ]
  },
  {
   "cell_type": "code",
   "execution_count": 31,
   "id": "f55bd42f",
   "metadata": {},
   "outputs": [
    {
     "name": "stdout",
     "output_type": "stream",
     "text": [
      "Slope: [[3.51486578]]\n",
      "Mean squared error:  285425.18085426884\n",
      "R2 score:  0.06218892003502241\n"
     ]
    }
   ],
   "source": [
    "print('Slope:' ,regression.coef_)\n",
    "print('Mean squared error: ', rmse)\n",
    "print('R2 score: ', r2)"
   ]
  },
  {
   "cell_type": "code",
   "execution_count": 32,
   "id": "b87da579",
   "metadata": {},
   "outputs": [
    {
     "data": {
      "image/png": "[encoded data removed]",
      "text/plain": [
       "<Figure size 640x480 with 1 Axes>"
      ]
     },
     "metadata": {},
     "output_type": "display_data"
    }
   ],
   "source": [
    "# Visualizing the training set results.\n",
    "\n",
    "plot_test = plt\n",
    "plot_test.scatter(X_train, y_train, color='green', s = 15)\n",
    "plot_test.plot(X_train, y_predicted_train, color='red', linewidth =3)\n",
    "plot_test.title('Construction Year vs Rent (in Euros) (Train set)')\n",
    "plot_test.xlabel('Construction Year')\n",
    "plot_test.ylabel('Rent (in Euros)')\n",
    "plot_test.show()"
   ]
  },
  {
   "cell_type": "markdown",
   "id": "e92c92ed",
   "metadata": {},
   "source": [
    "The difference between the MSE obtained during the model training and testing is high, which implies that over-fitting has occured. This model is not a good fit. "
   ]
  }
 ],
 "metadata": {
  "kernelspec": {
   "display_name": "Python 3 (ipykernel)",
   "language": "python",
   "name": "python3"
  },
  "language_info": {
   "codemirror_mode": {
    "name": "ipython",
    "version": 3
   },
   "file_extension": ".py",
   "mimetype": "text/x-python",
   "name": "python",
   "nbconvert_exporter": "python",
   "pygments_lexer": "ipython3",
   "version": "3.10.9"
  },
  "toc": {
   "base_numbering": 1,
   "nav_menu": {},
   "number_sections": true,
   "sideBar": true,
   "skip_h1_title": false,
   "title_cell": "Table of Contents",
   "title_sidebar": "Contents",
   "toc_cell": false,
   "toc_position": {},
   "toc_section_display": true,
   "toc_window_display": false
  }
 },
 "nbformat": 4,
 "nbformat_minor": 5
}
